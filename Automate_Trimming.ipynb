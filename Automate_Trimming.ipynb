{
 "cells": [
  {
   "cell_type": "code",
   "execution_count": 32,
   "metadata": {},
   "outputs": [],
   "source": [
    "import os\n",
    "import pandas as pd\n",
    "import scipy.io.wavfile as wavefile\n",
    "import numpy as np\n",
    "from glob import glob"
   ]
  },
  {
   "cell_type": "markdown",
   "metadata": {},
   "source": [
    "### Keep all the compressed files in a file named data."
   ]
  },
  {
   "cell_type": "code",
   "execution_count": 26,
   "metadata": {},
   "outputs": [],
   "source": [
    "path = './data'"
   ]
  },
  {
   "cell_type": "code",
   "execution_count": 27,
   "metadata": {},
   "outputs": [],
   "source": [
    "# paste the decompressing code from the github here!\n",
    "# and decompress it into file named <ITS CURRENT NAME>_extracted eg. if file name is 357_P.zip, unzip it into 357_P_EXTRACTED."
   ]
  },
  {
   "cell_type": "code",
   "execution_count": 35,
   "metadata": {},
   "outputs": [],
   "source": [
    "all_files = [os.path.normpath(path) for path in glob(path + '/*_EXTRACTED')]"
   ]
  },
  {
   "cell_type": "code",
   "execution_count": 64,
   "metadata": {},
   "outputs": [
    {
     "name": "stdout",
     "output_type": "stream",
     "text": [
      "Reading data\\357_P_extracted:\n",
      "----- csv_found: data\\357_P_extracted\\357_TRANSCRIPT.csv \n",
      "       audio_found: data\\357_P_extracted\\357_AUDIO.wav\n",
      "----- Executing sox command: sox.exe data\\357_P_extracted\\357_AUDIO.wav -r 256000 data\\357_P_extracted/Out_file.wav\n",
      "----- Trimming: data\\357_P_extracted\n",
      "---------- data\\357_P_extracted successfully saved!\n"
     ]
    }
   ],
   "source": [
    "tstring = '-'\n",
    "for file in all_files:\n",
    "    '''\n",
    "        making a new file using sox.exe\n",
    "        <BEWARE OF THE FACT THAT THE PROGRAM CONSIDERS sox.exe IN THE ENVIROMENT VARIALBLE PATH.\n",
    "        IF NOT SET, PLEASE SET TO AVOID ERRORS.>\n",
    "    '''\n",
    "    print('Reading %s:' % file)\n",
    "    csv_path = glob(file + '/*_TRANSCRIPT.csv')[0]\n",
    "    audio_path = glob(file + '/*_AUDIO.wav')[0]\n",
    "    print(tstring*5, 'csv_found: %s \\n'% csv_path, ' '*5, 'audio_found: %s'%audio_path)\n",
    "    out_path = os.path.split(audio_path)[0] + '/Out_file.wav'\n",
    "    sox_command = 'sox.exe ' + audio_path + ' -r 256000 ' + out_path\n",
    "    print(tstring*5,'Executing sox command: %s' % sox_command)\n",
    "    os.system(sox_command)\n",
    "    #TRIMMER\n",
    "    audio_path = out_path\n",
    "    print(tstring*5, 'Trimming: %s' % file )\n",
    "    sample_rate, audio = wavefile.read(audio_path)\n",
    "    transcript = pd.read_csv(csv_path, sep = '\\t')\n",
    "    transcript.drop(columns=['value'], inplace = True)\n",
    "    transcript = pd.DataFrame(transcript.loc[transcript['speaker'] == 'Participant'])\n",
    "    time_ = np.array([timeslot for timeslot in zip(transcript['start_time'].values, \n",
    "                                                transcript['stop_time'].values)])\n",
    "    time_ = np.ceil(time_*sample_rate)\n",
    "    newWavFileAsList = []\n",
    "    for elem in time_:\n",
    "        startRead = elem[0]\n",
    "        endRead = elem[1]\n",
    "        newWavFileAsList.extend(audio[int(startRead):int(endRead)])\n",
    "\n",
    "    newWavFile = np.array(newWavFileAsList)\n",
    "    wavefile.write(audio_path, sample_rate, newWavFile) #THIS HERE REMOVES THE SOX GENERATED FILE, CHANGE IF NECESSARY.\n",
    "    print(tstring*10 ,'%s successfully saved!' % file)\n"
   ]
  }
 ],
 "metadata": {
  "kernelspec": {
   "display_name": "Python [default]",
   "language": "python",
   "name": "python3"
  },
  "language_info": {
   "codemirror_mode": {
    "name": "ipython",
    "version": 3
   },
   "file_extension": ".py",
   "mimetype": "text/x-python",
   "name": "python",
   "nbconvert_exporter": "python",
   "pygments_lexer": "ipython3",
   "version": "3.6.5"
  }
 },
 "nbformat": 4,
 "nbformat_minor": 2
}
